{
 "cells": [
  {
   "cell_type": "markdown",
   "id": "4c646cb3",
   "metadata": {},
   "source": [
    "# Daily Coding Problem 40"
   ]
  },
  {
   "cell_type": "raw",
   "id": "0f8194c5",
   "metadata": {},
   "source": [
    "This problem was asked by Google.\n",
    "\n",
    "Given an array of integers where every integer occurs three times except for one integer, which only occurs once, find and return the non-duplicated integer.\n",
    "\n",
    "For example, given [6, 1, 3, 3, 3, 6, 6], return 1. Given [13, 19, 13, 13], return 19.\n",
    "\n",
    "Do this in O(N) time and O(1) space."
   ]
  },
  {
   "cell_type": "markdown",
   "id": "cbca9e81",
   "metadata": {},
   "source": [
    "# Solution\n",
    "\n",
    "We can find the unique number in an array of two duplicates by XORing all the numbers in the array. What this does is cancel out all the bits that have an even number of 1s, leaving only the unique (odd) bits out.\n",
    "\n",
    "Let's try to extend this technique to three duplicates. Instead of cancelling out all the bits with an even number of bits, we want to cancel those out that have a number of bits that are multiple of three.\n",
    "\n",
    "Let's assume all integers fit in 32 bits. Then let's create an array 32 zeroes long, and when iterating over each number in our array, we can add up all the bits to its proper spot in the array. Finally, we'll go over each bit in the array and make it equal to itself modulo 3. This means that any bit that has been set some multiple of 3 times will effectively be cleared, leaving only the bit from the unique number."
   ]
  },
  {
   "cell_type": "code",
   "execution_count": 2,
   "id": "01f671a0",
   "metadata": {},
   "outputs": [
    {
     "name": "stdout",
     "output_type": "stream",
     "text": [
      "1\n"
     ]
    }
   ],
   "source": [
    "def find_unique(arr):\n",
    "    result_arr = [0] * 32\n",
    "    for num in arr:\n",
    "        for i in range(32):\n",
    "            bit = num >> i & 1\n",
    "            result_arr[i] = (result_arr[i] + bit) % 3\n",
    "\n",
    "    result = 0\n",
    "    for i, bit in enumerate(result_arr):\n",
    "        if bit:\n",
    "            result += 2 ** i\n",
    "\n",
    "    return result\n",
    "print(find_unique([6, 1, 3, 3, 3, 6, 6]))"
   ]
  },
  {
   "cell_type": "markdown",
   "id": "498fc762",
   "metadata": {},
   "source": [
    "This runs in linear time, since we iterate over the array once, and in constant space, since we initialize an array of constant size."
   ]
  },
  {
   "cell_type": "code",
   "execution_count": null,
   "id": "9155e665",
   "metadata": {},
   "outputs": [],
   "source": []
  }
 ],
 "metadata": {
  "kernelspec": {
   "display_name": "Python 3 (ipykernel)",
   "language": "python",
   "name": "python3"
  },
  "language_info": {
   "codemirror_mode": {
    "name": "ipython",
    "version": 3
   },
   "file_extension": ".py",
   "mimetype": "text/x-python",
   "name": "python",
   "nbconvert_exporter": "python",
   "pygments_lexer": "ipython3",
   "version": "3.8.10"
  }
 },
 "nbformat": 4,
 "nbformat_minor": 5
}
